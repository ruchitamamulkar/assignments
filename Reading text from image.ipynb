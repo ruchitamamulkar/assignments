{
 "cells": [
  {
   "cell_type": "code",
   "execution_count": 1,
   "metadata": {},
   "outputs": [],
   "source": [
    "# import the following libraries \n",
    "# will convert the image to text string \n",
    "import pytesseract       \n",
    "  \n",
    "# adds image processing capabilities \n",
    "from PIL import Image     \n",
    "  \n",
    " # converts the text to speech   \n",
    "#import pyttsx3            \n",
    "  \n",
    "#translates into the mentioned language \n",
    "#from googletrans import Translator    "
   ]
  },
  {
   "cell_type": "code",
   "execution_count": 2,
   "metadata": {},
   "outputs": [],
   "source": [
    "# opening an image from the source path \n",
    "img = Image.open(\"C:\\\\Users\\\\Acer\\Downloads\\\\western-times.jpg\") "
   ]
  },
  {
   "cell_type": "code",
   "execution_count": 3,
   "metadata": {},
   "outputs": [],
   "source": [
    "pytesseract.pytesseract.tesseract_cmd =r'C:\\Program Files\\Tesseract-OCR\\tesseract.exe'\n",
    "# converts the image to result and saves it into result variable \n",
    "result = pytesseract.image_to_string(img)  "
   ]
  },
  {
   "cell_type": "code",
   "execution_count": 4,
   "metadata": {},
   "outputs": [
    {
     "name": "stdout",
     "output_type": "stream",
     "text": [
      "GUJARAT’S OWN ENGLISH DAILY FOUNDED IN 1967\n",
      "\n",
      "WESTERN’ TIMES ....\n",
      "\n",
      "RNIReg. No. 1117267\n",
      "\n",
      "FOUNDER EDITOR: LATE SHRI RAMU PATEL* EDITOR: NIKUNY PATEL fiageg te sr\n",
      "Forenaperiog ante ] vou.45 No.172AHMEDABAD SATURDAY, DECEMBER 11,2010 —| Ms Regd, No, GANG 162\n",
      "\n",
      "\\www.westemtimes.co.in issued by SSF AND vad\n",
      "\n",
      "Printed & Published by :Nikunj Patel at Ahmedabad at Western Times Pross” Wostom House’ Marutnandan Complex, Madalpur, Ahmodabad-380 006.\n",
      "PHONE : 079-26576037, 26578738 Advertisement: 26576417 advtewestorntimesco.in* Fax: 28577421 Email :english@westerntimes.co.in\n",
      "\n",
      "(News ) Need to look into Radia tapes leak: Govt\n",
      "\n",
      "‘media rom publishing the had with different people those audios public\n",
      "franseripte of Nira Radia including politicians, bu- was certainly a matter\n",
      "\n",
      " \n",
      "\n",
      "  \n",
      "\n",
      " \n",
      "\n",
      " \n",
      "\n",
      "Fourseparaists killed\n",
      "\n",
      "ment Friday told the Su- tapes in the 2G scam. reaucrats and_ of personal concern.\n",
      "inMeghalayagunfight | Frome Court that twas The government mediapersons in the _ He said that all the\n",
      "Shillong, | faking every step to en- sald it had sanctioned course of the grant of li- information could be put\n",
      "\n",
      "Fourtrbalseparat. | sure that there was no the tapping of Nira cence for 2G spectrum. in a fier so that conver-\n",
      "ists were killed and | leakage of the telephone Radia's phone and the In the course of the sations which are strictly\n",
      "five arrested in'a gun | tapes of corporate lobby. leak to. the media hearing of the petition, personal innature are not\n",
      "bettie with security | ist Nira Radia im the 26 Needed to be looked an apex court bench of feleased in the public do-\n",
      "forces Friday in the | spectrum seam and that into. However. the apex Justice G.S. Singhvi_main.\n",
      "\n",
      "    \n",
      "\n",
      "northeastern state of | the leaks to the media courtwastold thattheir and Justice Asok _ The reputation of\n",
      "Meghalaya, “police | nesses tobe looked nfo, publication in media Kumar Ganguly wae Ratan Tata was of areat\n",
      "said “The government said Could not be stopped. told that Tata was not value not only to him but\n",
      "\n",
      "‘The gunfight took | this in reply to Tata group Tata has sought or- challenging the right of even for the commercial\n",
      "\n",
      "Jace af Gajingpera | cheirmer Ratan ales dere restraining the pub- the sialutary agencies organization under the\n",
      "Beat Mendgatterin | peakeneteccke ine are caton-ofine tanserpts tovintereept and record banner o he Tala Group\n",
      "the'east Goro rule | Tveeman the nghtte ofthe S681 telephonic the telephonic conver of companies, the court\n",
      "istic when secunty | Renee Setsgeere Conversations that Radia sations but’ making was to\n",
      "\n",
      "forces were conauct | Puvaey by resvainng i “the petton said that\n",
      "ing a combing opera- any dentin the commer\n",
      "ton based on spesiic el standing the Tata\n",
      "inputs about the pres- G tit t ‘ ht | roup’s companies,\n",
      "ce ofa large grou winich are listed in the\n",
      "gesaaevee | GONSULULE FIQnts eax 5, See\n",
      "tration Army (CNLA) ihe inereat of the inves:\n",
      "titans in the area tore who have stakes in\n",
      "\n",
      "meses’ MOrtheast states urged ee ed\n",
      "\n",
      "pe ornare Agartalalimphal, 2rmy, various central and Manipui up for hearing Dec 12.” | December 14, at U K Academy, im Agartala, UM!\n",
      "a Rights groups in state security forces and Irom Sharmila, who com-\n",
      "We GNA mitanis, | nortngast india Friday the separatat outa are pleted 10 yeare of her\n",
      "BEES Soscee: capget.t sce; After Adarsh, satellitemappin\n",
      "\n",
      "a ait arnanes caine oe nee le i i ii ia i es\n",
      "\n",
      " \n",
      "\n",
      " \n",
      "\n",
      "   \n",
      "\n",
      "India's Ariane\n"
     ]
    }
   ],
   "source": [
    "print(result)"
   ]
  },
  {
   "cell_type": "markdown",
   "metadata": {},
   "source": [
    "## finding the subjects"
   ]
  },
  {
   "cell_type": "code",
   "execution_count": 7,
   "metadata": {},
   "outputs": [
    {
     "name": "stdout",
     "output_type": "stream",
     "text": [
      "[Complex, News, bu-, Fourseparaists, that, He, it, which, five, innature, i, tobe, Tata, government, Tata, gunfight, Tata, cheirmer, organization, tanserpts, Goro, Conversations, sations, petton, el, FIQnts, titans, who, states, pe, who, i, i]\n"
     ]
    }
   ],
   "source": [
    "import spacy\n",
    "nlp = spacy.load(\"en_core_web_sm\")\n",
    "sent = result\n",
    "doc=nlp(sent)\n",
    "\n",
    "sub_toks = [tok for tok in doc if (tok.dep_ == \"nsubj\") ]\n",
    "\n",
    "print(sub_toks)"
   ]
  },
  {
   "cell_type": "code",
   "execution_count": null,
   "metadata": {},
   "outputs": [],
   "source": []
  }
 ],
 "metadata": {
  "kernelspec": {
   "display_name": "Python 3",
   "language": "python",
   "name": "python3"
  },
  "language_info": {
   "codemirror_mode": {
    "name": "ipython",
    "version": 3
   },
   "file_extension": ".py",
   "mimetype": "text/x-python",
   "name": "python",
   "nbconvert_exporter": "python",
   "pygments_lexer": "ipython3",
   "version": "3.7.6"
  },
  "toc": {
   "base_numbering": 1,
   "nav_menu": {},
   "number_sections": true,
   "sideBar": true,
   "skip_h1_title": false,
   "title_cell": "Table of Contents",
   "title_sidebar": "Contents",
   "toc_cell": false,
   "toc_position": {},
   "toc_section_display": true,
   "toc_window_display": false
  },
  "varInspector": {
   "cols": {
    "lenName": 16,
    "lenType": 16,
    "lenVar": 40
   },
   "kernels_config": {
    "python": {
     "delete_cmd_postfix": "",
     "delete_cmd_prefix": "del ",
     "library": "var_list.py",
     "varRefreshCmd": "print(var_dic_list())"
    },
    "r": {
     "delete_cmd_postfix": ") ",
     "delete_cmd_prefix": "rm(",
     "library": "var_list.r",
     "varRefreshCmd": "cat(var_dic_list()) "
    }
   },
   "types_to_exclude": [
    "module",
    "function",
    "builtin_function_or_method",
    "instance",
    "_Feature"
   ],
   "window_display": false
  }
 },
 "nbformat": 4,
 "nbformat_minor": 4
}
