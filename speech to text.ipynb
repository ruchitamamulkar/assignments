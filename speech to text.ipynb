{
 "cells": [
  {
   "cell_type": "code",
   "execution_count": 1,
   "metadata": {},
   "outputs": [],
   "source": [
    "import speech_recognition as sr"
   ]
  },
  {
   "cell_type": "code",
   "execution_count": 2,
   "metadata": {},
   "outputs": [],
   "source": [
    "filename1 =\"C:\\\\Users\\\\Acer\\\\Downloads\\\\1.wav\""
   ]
  },
  {
   "cell_type": "code",
   "execution_count": 3,
   "metadata": {},
   "outputs": [],
   "source": [
    "r = sr.Recognizer()"
   ]
  },
  {
   "cell_type": "code",
   "execution_count": 4,
   "metadata": {},
   "outputs": [
    {
     "name": "stdout",
     "output_type": "stream",
     "text": [
      "Haryana Chief Minister today method reading parents of Pradyuman Thakur 7 year old student who was found murdered at gurugram Ryan International School premises told reporters that he has ordered a CBI enquiry in the case and that his government will be taking over the school for the next 3 months\n"
     ]
    }
   ],
   "source": [
    "with sr.AudioFile(filename1) as source:\n",
    "    audio_data = r.record(source)\n",
    "    text = r.recognize_google(audio_data)\n",
    "    print(text)"
   ]
  },
  {
   "cell_type": "code",
   "execution_count": 5,
   "metadata": {},
   "outputs": [],
   "source": [
    "filename2 =\"C:\\\\Users\\\\Acer\\\\Downloads\\\\2.wav\""
   ]
  },
  {
   "cell_type": "code",
   "execution_count": 6,
   "metadata": {},
   "outputs": [
    {
     "name": "stdout",
     "output_type": "stream",
     "text": [
      "मैं परिवार को मिलने के लिए आया हूं और परिवार के लोगों ने भी तथा बहुत से नेताओं ने समाज के बहुत से लोगों ने मांग रखी है कि इस केस को सीबीआई को सौंपा जाए इसी प्रकार से अपनी सारी मस्ती कर रही है फिर भी इस मांग के आधार पर इस केस को सीबीआई को जांच के लिए सौंपा जाता है\n"
     ]
    }
   ],
   "source": [
    "with sr.AudioFile(filename2) as source:\n",
    "    audio_data = r.record(source)\n",
    "    text = r.recognize_google(audio_data, language = 'hi-IN')\n",
    "    print(text)"
   ]
  },
  {
   "cell_type": "code",
   "execution_count": 7,
   "metadata": {},
   "outputs": [],
   "source": [
    "filename3 =\"C:\\\\Users\\\\Acer\\\\Downloads\\\\3.wav\""
   ]
  },
  {
   "cell_type": "code",
   "execution_count": 8,
   "metadata": {},
   "outputs": [
    {
     "name": "stdout",
     "output_type": "stream",
     "text": [
      "बहुत जल्दी से जल्दी किसकी इन्वेस्टिगेशन\n"
     ]
    }
   ],
   "source": [
    "with sr.AudioFile(filename3) as source:\n",
    "    audio_data = r.record(source)\n",
    "    text = r.recognize_google(audio_data, language = 'hi-IN')\n",
    "    print(text)"
   ]
  },
  {
   "cell_type": "code",
   "execution_count": 9,
   "metadata": {},
   "outputs": [],
   "source": [
    "filename4 =\"C:\\\\Users\\\\Acer\\\\Downloads\\\\4.wav\""
   ]
  },
  {
   "cell_type": "code",
   "execution_count": 10,
   "metadata": {},
   "outputs": [
    {
     "name": "stdout",
     "output_type": "stream",
     "text": [
      "आज तय किया है इसके बाद लिखा जाएगा क्या आज शाम को\n"
     ]
    }
   ],
   "source": [
    "with sr.AudioFile(filename4) as source:\n",
    "    audio_data = r.record(source)\n",
    "    text = r.recognize_google(audio_data, language = 'hi-IN')\n",
    "    print(text)"
   ]
  },
  {
   "cell_type": "code",
   "execution_count": 11,
   "metadata": {},
   "outputs": [],
   "source": [
    "filename5 =\"C:\\\\Users\\\\Acer\\\\Downloads\\\\5.wav\""
   ]
  },
  {
   "cell_type": "code",
   "execution_count": 12,
   "metadata": {},
   "outputs": [
    {
     "name": "stdout",
     "output_type": "stream",
     "text": [
      "स्कूल का मैनेजमेंट का काम है अभी 3 महीने के लिए इसको डेकोर किया जाता है और हमारे डिप्टी कमिश्नर\n"
     ]
    }
   ],
   "source": [
    "with sr.AudioFile(filename5) as source:\n",
    "    audio_data = r.record(source)\n",
    "    text = r.recognize_google(audio_data, language = 'hi-IN')\n",
    "    print(text)"
   ]
  },
  {
   "cell_type": "code",
   "execution_count": 13,
   "metadata": {},
   "outputs": [],
   "source": [
    "filename6 =\"C:\\\\Users\\\\Acer\\\\Downloads\\\\6.wav\""
   ]
  },
  {
   "cell_type": "code",
   "execution_count": 14,
   "metadata": {},
   "outputs": [
    {
     "name": "stdout",
     "output_type": "stream",
     "text": [
      "वह अपनी देखरेख में स्कूल की जितनी भी कमियां हैं उन व्यवस्थाओं को ठीक\n"
     ]
    }
   ],
   "source": [
    "with sr.AudioFile(filename6) as source:\n",
    "    audio_data = r.record(source)\n",
    "    text = r.recognize_google(audio_data, language = 'hi-IN')\n",
    "    print(text)"
   ]
  },
  {
   "cell_type": "code",
   "execution_count": 15,
   "metadata": {},
   "outputs": [],
   "source": [
    "filename7=\"C:\\\\Users\\\\Acer\\\\Downloads\\\\7.wav\""
   ]
  },
  {
   "cell_type": "code",
   "execution_count": 16,
   "metadata": {},
   "outputs": [
    {
     "name": "stdout",
     "output_type": "stream",
     "text": [
      "during the meeting with the Chief Minister pradyuman's mother is that have broken down kutta had earlier mat gurugram CP Sandeep there were together updates about the case Pradyuman was founded on Friday last week by a school staff are in washroom on the school campus and bones area near gurugram city with his throat slit the boys family resides in Maruti Kunj Society in the same media last week full is arrested Ashok Kumar conductor of a school was associated with the school as he is expected to be the killer download\n"
     ]
    }
   ],
   "source": [
    "with sr.AudioFile(filename7) as source:\n",
    "    # listen for the data (load audio to memory)\n",
    "    audio_data = r.record(source)\n",
    "    # recognize (convert from speech to text)\n",
    "    text = r.recognize_google(audio_data)\n",
    "    print(text)\n"
   ]
  },
  {
   "cell_type": "code",
   "execution_count": null,
   "metadata": {},
   "outputs": [],
   "source": []
  },
  {
   "cell_type": "code",
   "execution_count": null,
   "metadata": {},
   "outputs": [],
   "source": []
  },
  {
   "cell_type": "code",
   "execution_count": null,
   "metadata": {},
   "outputs": [],
   "source": []
  }
 ],
 "metadata": {
  "kernelspec": {
   "display_name": "Python 3",
   "language": "python",
   "name": "python3"
  },
  "language_info": {
   "codemirror_mode": {
    "name": "ipython",
    "version": 3
   },
   "file_extension": ".py",
   "mimetype": "text/x-python",
   "name": "python",
   "nbconvert_exporter": "python",
   "pygments_lexer": "ipython3",
   "version": "3.7.6"
  },
  "toc": {
   "base_numbering": 1,
   "nav_menu": {},
   "number_sections": true,
   "sideBar": true,
   "skip_h1_title": false,
   "title_cell": "Table of Contents",
   "title_sidebar": "Contents",
   "toc_cell": false,
   "toc_position": {},
   "toc_section_display": true,
   "toc_window_display": false
  },
  "varInspector": {
   "cols": {
    "lenName": 16,
    "lenType": 16,
    "lenVar": 40
   },
   "kernels_config": {
    "python": {
     "delete_cmd_postfix": "",
     "delete_cmd_prefix": "del ",
     "library": "var_list.py",
     "varRefreshCmd": "print(var_dic_list())"
    },
    "r": {
     "delete_cmd_postfix": ") ",
     "delete_cmd_prefix": "rm(",
     "library": "var_list.r",
     "varRefreshCmd": "cat(var_dic_list()) "
    }
   },
   "types_to_exclude": [
    "module",
    "function",
    "builtin_function_or_method",
    "instance",
    "_Feature"
   ],
   "window_display": false
  }
 },
 "nbformat": 4,
 "nbformat_minor": 4
}
